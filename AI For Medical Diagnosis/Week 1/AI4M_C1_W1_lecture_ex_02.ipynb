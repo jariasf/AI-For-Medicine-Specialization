{
  "nbformat": 4,
  "nbformat_minor": 0,
  "metadata": {
    "kernelspec": {
      "display_name": "Python 3",
      "language": "python",
      "name": "python3"
    },
    "language_info": {
      "codemirror_mode": {
        "name": "ipython",
        "version": 3
      },
      "file_extension": ".py",
      "mimetype": "text/x-python",
      "name": "python",
      "nbconvert_exporter": "python",
      "pygments_lexer": "ipython3",
      "version": "3.6.3"
    },
    "colab": {
      "name": "AI4M_C1_W1_lecture_ex_02.ipynb",
      "provenance": []
    }
  },
  "cells": [
    {
      "cell_type": "markdown",
      "metadata": {
        "id": "moBNldJfpVCA",
        "colab_type": "text"
      },
      "source": [
        "## AI for Medicine Course 1 Week 1 lecture exercises"
      ]
    },
    {
      "cell_type": "markdown",
      "metadata": {
        "id": "FE9FmIqupVCE",
        "colab_type": "text"
      },
      "source": [
        "<a name=\"counting-labels\"></a>\n",
        "# Counting labels\n",
        "\n",
        "As you saw in the lecture videos, one way to avoid having class imbalance impact the loss function is to weight the losses differently.  To choose the weights, you first need to calculate the class frequencies.\n",
        "\n",
        "For this exercise, you'll just get the count of each label.  Later on, you'll use the concepts practiced here to calculate frequencies in the assignment!"
      ]
    },
    {
      "cell_type": "code",
      "metadata": {
        "id": "RWIcU4zdpVCK",
        "colab_type": "code",
        "colab": {
          "base_uri": "https://localhost:8080/",
          "height": 72
        },
        "outputId": "eaf32d87-bed7-41d2-cf43-f1ba3fb5a63e"
      },
      "source": [
        "# Import the necessary packages\n",
        "import numpy as np\n",
        "import pandas as pd\n",
        "import seaborn as sns\n",
        "import matplotlib.pyplot as plt\n",
        "%matplotlib inline"
      ],
      "execution_count": 1,
      "outputs": [
        {
          "output_type": "stream",
          "text": [
            "/usr/local/lib/python3.6/dist-packages/statsmodels/tools/_testing.py:19: FutureWarning: pandas.util.testing is deprecated. Use the functions in the public API at pandas.testing instead.\n",
            "  import pandas.util.testing as tm\n"
          ],
          "name": "stderr"
        }
      ]
    },
    {
      "cell_type": "code",
      "metadata": {
        "id": "0ooZqhISpVC2",
        "colab_type": "code",
        "colab": {}
      },
      "source": [
        "# Read csv file containing training datadata\n",
        "train_df = pd.read_csv(\"nih/train-small.csv\")"
      ],
      "execution_count": 0,
      "outputs": []
    },
    {
      "cell_type": "code",
      "metadata": {
        "id": "y0WEv2CIpVDL",
        "colab_type": "code",
        "colab": {}
      },
      "source": [
        "# Count up the number of instances of each class (drop non-class columns from the counts)\n",
        "class_counts = train_df.sum().drop(['Image','PatientId'])\n"
      ],
      "execution_count": 0,
      "outputs": []
    },
    {
      "cell_type": "code",
      "metadata": {
        "id": "QAAYyX10pVDb",
        "colab_type": "code",
        "colab": {
          "base_uri": "https://localhost:8080/",
          "height": 260
        },
        "outputId": "59cab794-b0e3-4b2e-d01c-869a4c325608"
      },
      "source": [
        "for column in class_counts.keys():\n",
        "    print(f\"The class {column} has {train_df[column].sum()} samples\")"
      ],
      "execution_count": 4,
      "outputs": [
        {
          "output_type": "stream",
          "text": [
            "The class Atelectasis has 106 samples\n",
            "The class Cardiomegaly has 20 samples\n",
            "The class Consolidation has 33 samples\n",
            "The class Edema has 16 samples\n",
            "The class Effusion has 128 samples\n",
            "The class Emphysema has 13 samples\n",
            "The class Fibrosis has 14 samples\n",
            "The class Hernia has 2 samples\n",
            "The class Infiltration has 175 samples\n",
            "The class Mass has 45 samples\n",
            "The class Nodule has 54 samples\n",
            "The class Pleural_Thickening has 21 samples\n",
            "The class Pneumonia has 10 samples\n",
            "The class Pneumothorax has 38 samples\n"
          ],
          "name": "stdout"
        }
      ]
    },
    {
      "cell_type": "code",
      "metadata": {
        "id": "BnLvNG7RpVDs",
        "colab_type": "code",
        "colab": {
          "base_uri": "https://localhost:8080/",
          "height": 302
        },
        "outputId": "6e3b7c2f-3db5-45f5-df8c-f90e30681ca0"
      },
      "source": [
        "# Plot up the distribution of counts\n",
        "sns.barplot(class_counts.values, class_counts.index, color='b')\n",
        "plt.title('Distribution of Classes for Training Dataset', fontsize=15)\n",
        "plt.xlabel('Number of Patients', fontsize=15)\n",
        "plt.ylabel('Diseases', fontsize=15)\n",
        "plt.show()"
      ],
      "execution_count": 5,
      "outputs": [
        {
          "output_type": "display_data",
          "data": {
            "image/png": "[encoded data removed]",
            "text/plain": [
              "<Figure size 432x288 with 1 Axes>"
            ]
          },
          "metadata": {
            "tags": [],
            "needs_background": "light"
          }
        }
      ]
    },
    {
      "cell_type": "markdown",
      "metadata": {
        "id": "FMOtVoUVpVD5",
        "colab_type": "text"
      },
      "source": [
        "<a name=\"weighted-loss\"></a>\n",
        "# Weighted Loss function\n"
      ]
    },
    {
      "cell_type": "markdown",
      "metadata": {
        "id": "qm0X7FTTpVD8",
        "colab_type": "text"
      },
      "source": [
        "Below is an example of calculating weighted loss.  In the assignment, you will calculate a weighted loss function.  This sample code will give you some intuition for what the weighted loss function is doing, and also help you practice some syntax you will use in the graded assignment.\n",
        "\n",
        "For this example, you'll first define a hypothetical set of true labels and then a set of predictions.\n",
        "\n",
        "Run the next cell to create the 'ground truth' labels."
      ]
    },
    {
      "cell_type": "code",
      "metadata": {
        "id": "OSIEV-_JpVD-",
        "colab_type": "code",
        "colab": {
          "base_uri": "https://localhost:8080/",
          "height": 104
        },
        "outputId": "d39c572f-66ea-4d1f-ac68-704ba20df48d"
      },
      "source": [
        "# Generate an array of 4 binary \n",
        "# label values, 3 positive and 1 negative\n",
        "y_true = np.array(\n",
        "        [[1],\n",
        "         [1],\n",
        "         [1],\n",
        "         [0]])\n",
        "print(f\"y_true: \\n{y_true}\")"
      ],
      "execution_count": 6,
      "outputs": [
        {
          "output_type": "stream",
          "text": [
            "y_true: \n",
            "[[1]\n",
            " [1]\n",
            " [1]\n",
            " [0]]\n"
          ],
          "name": "stdout"
        }
      ]
    },
    {
      "cell_type": "markdown",
      "metadata": {
        "id": "ju4exBvspVEJ",
        "colab_type": "text"
      },
      "source": [
        "### Two models\n",
        "To better understand the loss function, you will pretend that you have two models.\n",
        "- Model 1 always outputs a 0.9 for any example that it's given.  \n",
        "- Model 2 always outputs a 0.1 for any example that it's given."
      ]
    },
    {
      "cell_type": "code",
      "metadata": {
        "id": "LTJYcurvpVEM",
        "colab_type": "code",
        "colab": {
          "base_uri": "https://localhost:8080/",
          "height": 208
        },
        "outputId": "2c2aaa1d-469c-44dc-a590-fa06c92d32cc"
      },
      "source": [
        "# Make model predictions that \n",
        "# are always 0.9 for all examples\n",
        "y_pred_1 = 0.9 * np.ones(y_true.shape)\n",
        "print(f\"y_pred_1: \\n{y_pred_1}\")\n",
        "print()\n",
        "y_pred_2 = 0.1 * np.ones(y_true.shape)\n",
        "print(f\"y_pred_2: \\n{y_pred_2}\")"
      ],
      "execution_count": 7,
      "outputs": [
        {
          "output_type": "stream",
          "text": [
            "y_pred_1: \n",
            "[[0.9]\n",
            " [0.9]\n",
            " [0.9]\n",
            " [0.9]]\n",
            "\n",
            "y_pred_2: \n",
            "[[0.1]\n",
            " [0.1]\n",
            " [0.1]\n",
            " [0.1]]\n"
          ],
          "name": "stdout"
        }
      ]
    },
    {
      "cell_type": "markdown",
      "metadata": {
        "id": "Qfmxa9UypVEV",
        "colab_type": "text"
      },
      "source": [
        "### Problems with the regular loss function\n",
        "The learning goal here is to notice that with a regular loss function (not a weighted loss), the model that always outputs 0.9 has a smaller loss (performs better) than model 2.\n",
        "- This is because there is a class imbalance, where 3 out of the 4 labels are 1.\n",
        "- If the data were perfectly balanced, (two labels were 1, and two labels were 0), model 1 and model 2 would have the same loss.  Each would get two examples correct and two examples incorrect.\n",
        "- However, since the data is not balanced, the regular loss function implies that model 1 is better than model 2."
      ]
    },
    {
      "cell_type": "markdown",
      "metadata": {
        "id": "cR9nQTz-pVEX",
        "colab_type": "text"
      },
      "source": [
        "### Notice the shortcomings of a regular non-weighted loss\n",
        "\n",
        "See what loss you get from these two models (model 1 always predicts 0.9, and model 2 always predicts 0.1), see what the regular (unweighted) loss function is for each model."
      ]
    },
    {
      "cell_type": "code",
      "metadata": {
        "id": "55II08cbpVEZ",
        "colab_type": "code",
        "colab": {
          "base_uri": "https://localhost:8080/",
          "height": 34
        },
        "outputId": "78ba1b7d-2177-4080-a6f7-4efed13edc91"
      },
      "source": [
        "loss_reg_1 = -1 * np.sum(y_true * np.log(y_pred_1)) + \\\n",
        "                -1 * np.sum((1 - y_true) * np.log(1 - y_pred_1))\n",
        "print(f\"loss_reg_1: {loss_reg_1:.4f}\")"
      ],
      "execution_count": 8,
      "outputs": [
        {
          "output_type": "stream",
          "text": [
            "loss_reg_1: 2.6187\n"
          ],
          "name": "stdout"
        }
      ]
    },
    {
      "cell_type": "code",
      "metadata": {
        "id": "V4Yu2la3pVEn",
        "colab_type": "code",
        "colab": {
          "base_uri": "https://localhost:8080/",
          "height": 34
        },
        "outputId": "a0e1e31a-2e6a-4ed2-f278-6cf774cba5eb"
      },
      "source": [
        "loss_reg_2 = -1 * np.sum(y_true * np.log(y_pred_2)) + \\\n",
        "                -1 * np.sum((1 - y_true) * np.log(1 - y_pred_2))\n",
        "print(f\"loss_reg_2: {loss_reg_2:.4f}\")"
      ],
      "execution_count": 9,
      "outputs": [
        {
          "output_type": "stream",
          "text": [
            "loss_reg_2: 7.0131\n"
          ],
          "name": "stdout"
        }
      ]
    },
    {
      "cell_type": "code",
      "metadata": {
        "id": "AEwcON6zpVEz",
        "colab_type": "code",
        "colab": {
          "base_uri": "https://localhost:8080/",
          "height": 52
        },
        "outputId": "53ce7b0b-198c-4f68-92ae-9092240a98d9"
      },
      "source": [
        "print(f\"When the model 1 always predicts 0.9, the regular loss is {loss_reg_1:.4f}\")\n",
        "print(f\"When the model 2 always predicts 0.1, the regular loss is {loss_reg_2:.4f}\")"
      ],
      "execution_count": 10,
      "outputs": [
        {
          "output_type": "stream",
          "text": [
            "When the model 1 always predicts 0.9, the regular loss is 2.6187\n",
            "When the model 2 always predicts 0.1, the regular loss is 7.0131\n"
          ],
          "name": "stdout"
        }
      ]
    },
    {
      "cell_type": "markdown",
      "metadata": {
        "id": "R0wHjC-ppVFG",
        "colab_type": "text"
      },
      "source": [
        "Notice that the loss function gives a greater loss when the predictions are always 0.1, because the data is imbalanced, and has three labels of `1` but only one label for `0`.\n",
        "\n",
        "Given a class imbalance with more positive labels, the regular loss function implies that the model with the higher prediction of 0.9 performs better than the model with the lower prediction of 0.1"
      ]
    },
    {
      "cell_type": "markdown",
      "metadata": {
        "id": "A5iqdZOQpVFK",
        "colab_type": "text"
      },
      "source": [
        "### How a weighted loss treats both models the same\n",
        "With a weighted loss function, you will get the same weighted loss when the predictions are all 0.9 versus when the predictions are all 0.1.  \n",
        "- Notice how a prediction of 0.9 is 0.1 away from the positive label of 1.\n",
        "- Also notice how a prediction of 0.1 is 0.1 away from the negative label of 0\n",
        "- So model 1 and 2 are \"symmetric\" along the midpoint of 0.5, if you plot them on a number line between 0 and 1."
      ]
    },
    {
      "cell_type": "markdown",
      "metadata": {
        "id": "AeuQROT8pVFM",
        "colab_type": "text"
      },
      "source": [
        "### Weighted Loss Equation\n",
        "Calculate the loss for the zero-th label (column at index 0)\n",
        "\n",
        "- The loss is made up of two terms.  To make it easier to read the code, you will calculate each of these terms separately.  We are giving each of these two terms a name for explanatory purposes, but these are not officially called $loss_{pos}$ or $loss_{neg}$\n",
        "\n",
        "    - $loss_{pos}$: we'll use this to refer to the loss where the actual label is positive (the positive examples).\n",
        "    - $loss_{neg}$: we'll use this to refer to the loss where the actual label is negative (the negative examples).  \n",
        "\n",
        "$$ loss^{(i)} = loss_{pos}^{(i)} + los_{neg}^{(i)} $$\n",
        "\n",
        "$$loss_{pos}^{(i)} = -1 \\times weight_{pos}^{(i)} \\times y^{(i)} \\times log(\\hat{y}^{(i)})$$\n",
        "\n",
        "$$loss_{neg}^{(i)} = -1 \\times weight_{neg}^{(i)} \\times (1- y^{(i)}) \\times log(1 - \\hat{y}^{(i)})$$"
      ]
    },
    {
      "cell_type": "markdown",
      "metadata": {
        "id": "WGiyh1GjpVFP",
        "colab_type": "text"
      },
      "source": [
        "Since this sample dataset is small enough, you can calculate the positive weight to be used in the weighted loss function.  To get the positive weight, count how many NEGATIVE labels are present, divided by the total number of examples.\n",
        "\n",
        "In this case, there is one negative label, and four total examples.\n",
        "\n",
        "Similarly, the negative weight is the fraction of positive labels.\n",
        "\n",
        "Run the next cell to define positive and negative weights."
      ]
    },
    {
      "cell_type": "code",
      "metadata": {
        "id": "SnNgbGH3pVFR",
        "colab_type": "code",
        "colab": {
          "base_uri": "https://localhost:8080/",
          "height": 52
        },
        "outputId": "58a972bd-6af3-4267-d4cd-09f92eb3ac69"
      },
      "source": [
        "# calculate the positive weight as the fraction of negative labels\n",
        "w_p = 1/4\n",
        "\n",
        "# calculate the negative weight as the fraction of positive labels\n",
        "w_n = 3/4\n",
        "\n",
        "print(f\"positive weight w_p: {w_p}\")\n",
        "print(f\"negative weight w_n {w_n}\")"
      ],
      "execution_count": 11,
      "outputs": [
        {
          "output_type": "stream",
          "text": [
            "positive weight w_p: 0.25\n",
            "negative weight w_n 0.75\n"
          ],
          "name": "stdout"
        }
      ]
    },
    {
      "cell_type": "markdown",
      "metadata": {
        "id": "HQj87YQbpVFk",
        "colab_type": "text"
      },
      "source": [
        "### Model 1 weighted loss\n",
        "Run the next two cells to calculate the two loss terms separately.\n",
        "\n",
        "Here, `loss_1_pos` and `loss_1_neg` are calculated using the `y_pred_1` predictions."
      ]
    },
    {
      "cell_type": "code",
      "metadata": {
        "id": "--boX-KRpVFm",
        "colab_type": "code",
        "colab": {
          "base_uri": "https://localhost:8080/",
          "height": 34
        },
        "outputId": "f71be438-bfc6-433d-f6ff-4ac82a297f6f"
      },
      "source": [
        "# Calculate and print out the first term in the loss function, which we are calling 'loss_pos'\n",
        "loss_1_pos = -1 * np.sum(w_p * y_true * np.log(y_pred_1 ))\n",
        "print(f\"loss_1_pos: {loss_1_pos:.4f}\")"
      ],
      "execution_count": 12,
      "outputs": [
        {
          "output_type": "stream",
          "text": [
            "loss_1_pos: 0.0790\n"
          ],
          "name": "stdout"
        }
      ]
    },
    {
      "cell_type": "code",
      "metadata": {
        "id": "YUNhWYHCpVF1",
        "colab_type": "code",
        "colab": {
          "base_uri": "https://localhost:8080/",
          "height": 34
        },
        "outputId": "3a6432f6-dc97-43a2-ce51-46307f607768"
      },
      "source": [
        "# Calculate and print out the second term in the loss function, which we're calling 'loss_neg'\n",
        "loss_1_neg = -1 * np.sum(w_n * (1 - y_true) * np.log(1 - y_pred_1 ))\n",
        "print(f\"loss_1_neg: {loss_1_neg:.4f}\")"
      ],
      "execution_count": 13,
      "outputs": [
        {
          "output_type": "stream",
          "text": [
            "loss_1_neg: 1.7269\n"
          ],
          "name": "stdout"
        }
      ]
    },
    {
      "cell_type": "code",
      "metadata": {
        "id": "1TihaAuqpVGD",
        "colab_type": "code",
        "colab": {
          "base_uri": "https://localhost:8080/",
          "height": 34
        },
        "outputId": "a0b1f303-6f84-4126-e51e-39c626d6f104"
      },
      "source": [
        "# Sum positive and negative losses to calculate total loss\n",
        "loss_1 = loss_1_pos + loss_1_neg\n",
        "print(f\"loss_1: {loss_1:.4f}\")"
      ],
      "execution_count": 14,
      "outputs": [
        {
          "output_type": "stream",
          "text": [
            "loss_1: 1.8060\n"
          ],
          "name": "stdout"
        }
      ]
    },
    {
      "cell_type": "markdown",
      "metadata": {
        "id": "EG_fWcqUpVGQ",
        "colab_type": "text"
      },
      "source": [
        "### Model 2 weighted loss\n",
        "\n",
        "Now do the same calculations for when the predictions are from `y_pred_2'.  Calculate the two terms of the weighted loss function and add them together."
      ]
    },
    {
      "cell_type": "code",
      "metadata": {
        "id": "XclKnz2ipVGR",
        "colab_type": "code",
        "colab": {
          "base_uri": "https://localhost:8080/",
          "height": 34
        },
        "outputId": "2c321052-4174-46cb-c3ba-88cad126e1c8"
      },
      "source": [
        "# Calculate and print out the first term in the loss function, which we are calling 'loss_pos'\n",
        "loss_2_pos = -1 * np.sum(w_p * y_true * np.log(y_pred_2))\n",
        "print(f\"loss_2_pos: {loss_2_pos:.4f}\")"
      ],
      "execution_count": 15,
      "outputs": [
        {
          "output_type": "stream",
          "text": [
            "loss_2_pos: 1.7269\n"
          ],
          "name": "stdout"
        }
      ]
    },
    {
      "cell_type": "code",
      "metadata": {
        "id": "0wKWFo_HpVGa",
        "colab_type": "code",
        "colab": {
          "base_uri": "https://localhost:8080/",
          "height": 34
        },
        "outputId": "f217a5e7-7eb4-48dd-9717-1d2d37cc90c8"
      },
      "source": [
        "# Calculate and print out the second term in the loss function, which we're calling 'loss_neg'\n",
        "loss_2_neg = -1 * np.sum(w_n * (1 - y_true) * np.log(1 - y_pred_2))\n",
        "print(f\"loss_2_neg: {loss_2_neg:.4f}\")"
      ],
      "execution_count": 16,
      "outputs": [
        {
          "output_type": "stream",
          "text": [
            "loss_2_neg: 0.0790\n"
          ],
          "name": "stdout"
        }
      ]
    },
    {
      "cell_type": "code",
      "metadata": {
        "id": "8BIpwpfEpVGk",
        "colab_type": "code",
        "colab": {
          "base_uri": "https://localhost:8080/",
          "height": 34
        },
        "outputId": "18eadd33-8373-4d54-9109-adde71649e38"
      },
      "source": [
        "# Sum positive and negative losses to calculate total loss when the prediction is y_pred_2\n",
        "loss_2 = loss_2_pos + loss_2_neg\n",
        "print(f\"loss_2: {loss_2:.4f}\")"
      ],
      "execution_count": 17,
      "outputs": [
        {
          "output_type": "stream",
          "text": [
            "loss_2: 1.8060\n"
          ],
          "name": "stdout"
        }
      ]
    },
    {
      "cell_type": "markdown",
      "metadata": {
        "id": "sjqSpBQBpVGr",
        "colab_type": "text"
      },
      "source": [
        "### Compare model 1 and model 2 weighted loss"
      ]
    },
    {
      "cell_type": "code",
      "metadata": {
        "id": "QjxzX0rTpVGt",
        "colab_type": "code",
        "colab": {
          "base_uri": "https://localhost:8080/",
          "height": 52
        },
        "outputId": "d2e37838-0e59-450f-a05e-9cdc7e6b39e5"
      },
      "source": [
        "print(f\"When the model always predicts 0.9, the total loss is {loss_1:.4f}\")\n",
        "print(f\"When the model always predicts 0.1, the total loss is {loss_2:.4f}\")"
      ],
      "execution_count": 18,
      "outputs": [
        {
          "output_type": "stream",
          "text": [
            "When the model always predicts 0.9, the total loss is 1.8060\n",
            "When the model always predicts 0.1, the total loss is 1.8060\n"
          ],
          "name": "stdout"
        }
      ]
    },
    {
      "cell_type": "markdown",
      "metadata": {
        "id": "ScMintgWpVG3",
        "colab_type": "text"
      },
      "source": [
        "### What do you notice?\n",
        "Since you used a weighted loss, the calculated loss is the same whether the model always predicts 0.9 or always predicts 0.1.  \n",
        "\n",
        "You may have also noticed that when you calculate each term of the weighted loss separately, there is a bit of symmetry when comparing between the two sets of predictions."
      ]
    },
    {
      "cell_type": "code",
      "metadata": {
        "id": "DBfnbVK_pVG6",
        "colab_type": "code",
        "colab": {
          "base_uri": "https://localhost:8080/",
          "height": 69
        },
        "outputId": "400feb59-aa2c-4317-ff2d-7990c574f136"
      },
      "source": [
        "print(f\"loss_1_pos: {loss_1_pos:.4f} \\t loss_1_neg: {loss_1_neg:.4f}\")\n",
        "print()\n",
        "print(f\"loss_2_pos: {loss_2_pos:.4f} \\t loss_2_neg: {loss_2_neg:.4f}\")"
      ],
      "execution_count": 19,
      "outputs": [
        {
          "output_type": "stream",
          "text": [
            "loss_1_pos: 0.0790 \t loss_1_neg: 1.7269\n",
            "\n",
            "loss_2_pos: 1.7269 \t loss_2_neg: 0.0790\n"
          ],
          "name": "stdout"
        }
      ]
    },
    {
      "cell_type": "markdown",
      "metadata": {
        "id": "swgInaHYpVHD",
        "colab_type": "text"
      },
      "source": [
        "Even though there is a class imbalance, where there are 3 positive labels but only one negative label, the weighted loss accounts for this by giving more weight to the negative label than to the positive label."
      ]
    },
    {
      "cell_type": "markdown",
      "metadata": {
        "id": "c8LlaRiTpVHF",
        "colab_type": "text"
      },
      "source": [
        "### Weighted Loss for more than one class\n",
        "\n",
        "In this week's assignment, you will calculate the multi-class weighted loss (when there is more than one disease class that your model is learning to predict).  Here, you can practice working with 2D numpy arrays, which will help you implement the multi-class weighted loss in the graded assignment.\n",
        "\n",
        "You will work with a dataset that has two disease classes (two columns)"
      ]
    },
    {
      "cell_type": "code",
      "metadata": {
        "id": "PzVue2WGpVHG",
        "colab_type": "code",
        "colab": {
          "base_uri": "https://localhost:8080/",
          "height": 104
        },
        "outputId": "5bd41fb9-b508-4192-bf68-6d762a11a48c"
      },
      "source": [
        "# View the labels (true values) that you will practice with\n",
        "y_true = np.array(\n",
        "        [[1,0],\n",
        "         [1,0],\n",
        "         [1,0],\n",
        "         [1,0],\n",
        "         [0,1]\n",
        "        ])\n",
        "y_true"
      ],
      "execution_count": 20,
      "outputs": [
        {
          "output_type": "execute_result",
          "data": {
            "text/plain": [
              "array([[1, 0],\n",
              "       [1, 0],\n",
              "       [1, 0],\n",
              "       [1, 0],\n",
              "       [0, 1]])"
            ]
          },
          "metadata": {
            "tags": []
          },
          "execution_count": 20
        }
      ]
    },
    {
      "cell_type": "markdown",
      "metadata": {
        "id": "mlmFi3JGpVHX",
        "colab_type": "text"
      },
      "source": [
        "### Choosing axis=0 or axis=1\n",
        "You will use `numpy.sum` to count the number of times column `0` has the value 0.  \n",
        "First, notice the difference when you set axis=0 versus axis=1"
      ]
    },
    {
      "cell_type": "code",
      "metadata": {
        "id": "_AOZ7ok-pVHb",
        "colab_type": "code",
        "colab": {
          "base_uri": "https://localhost:8080/",
          "height": 52
        },
        "outputId": "40da0f66-356e-4631-ca3b-1e7df096e5ad"
      },
      "source": [
        "# See what happens when you set axis=0\n",
        "print(f\"using axis = 0 {np.sum(y_true,axis=0)}\")\n",
        "\n",
        "# Compare this to what happens when you set axis=1\n",
        "print(f\"using axis = 1 {np.sum(y_true,axis=1)}\")"
      ],
      "execution_count": 21,
      "outputs": [
        {
          "output_type": "stream",
          "text": [
            "using axis = 0 [4 1]\n",
            "using axis = 1 [1 1 1 1 1]\n"
          ],
          "name": "stdout"
        }
      ]
    },
    {
      "cell_type": "markdown",
      "metadata": {
        "id": "LNJMp2tzpVH0",
        "colab_type": "text"
      },
      "source": [
        "Notice that if you choose `axis=0`, the sum is taken for each of the two columns.  This is what you want to do in this case. If you set `axis=1`, the sum is taken for each row."
      ]
    },
    {
      "cell_type": "markdown",
      "metadata": {
        "id": "HMF-bWLIpVH1",
        "colab_type": "text"
      },
      "source": [
        "### Calculate the weights\n",
        "Previously, you visually inspected the data to calculate the fraction of negative and positive labels.  Here, you can do this programmatically."
      ]
    },
    {
      "cell_type": "code",
      "metadata": {
        "id": "Bde4S7SlpVH4",
        "colab_type": "code",
        "colab": {
          "base_uri": "https://localhost:8080/",
          "height": 34
        },
        "outputId": "f02c8279-1117-4058-a50d-52ea2830af76"
      },
      "source": [
        "# set the positive weights as the fraction of negative labels (0) for each class (each column)\n",
        "w_p = np.sum(y_true == 0,axis=0) / y_true.shape[0]\n",
        "w_p"
      ],
      "execution_count": 22,
      "outputs": [
        {
          "output_type": "execute_result",
          "data": {
            "text/plain": [
              "array([0.2, 0.8])"
            ]
          },
          "metadata": {
            "tags": []
          },
          "execution_count": 22
        }
      ]
    },
    {
      "cell_type": "code",
      "metadata": {
        "id": "dmJyRwVppVIF",
        "colab_type": "code",
        "colab": {
          "base_uri": "https://localhost:8080/",
          "height": 34
        },
        "outputId": "99601d56-061c-4b01-fd3d-7b15233ade87"
      },
      "source": [
        "# set the negative weights as the fraction of positive labels (1) for each class\n",
        "w_n = np.sum(y_true == 1, axis=0) / y_true.shape[0]\n",
        "w_n"
      ],
      "execution_count": 23,
      "outputs": [
        {
          "output_type": "execute_result",
          "data": {
            "text/plain": [
              "array([0.8, 0.2])"
            ]
          },
          "metadata": {
            "tags": []
          },
          "execution_count": 23
        }
      ]
    },
    {
      "cell_type": "markdown",
      "metadata": {
        "id": "n-6WH7qGpVIP",
        "colab_type": "text"
      },
      "source": [
        "In the assignment, you will train a model to try and make useful predictions.  In order to make this example easier to follow, you will pretend that your model always predicts the same value for every example."
      ]
    },
    {
      "cell_type": "code",
      "metadata": {
        "id": "JPsgXMpzpVIR",
        "colab_type": "code",
        "colab": {
          "base_uri": "https://localhost:8080/",
          "height": 104
        },
        "outputId": "a7235ec2-5e12-4a60-cb0c-427e22f563c3"
      },
      "source": [
        "# Set model predictions where all predictions are the same\n",
        "y_pred = np.ones(y_true.shape)\n",
        "y_pred[:,0] = 0.3 * y_pred[:,0]\n",
        "y_pred[:,1] = 0.7 * y_pred[:,1]\n",
        "y_pred"
      ],
      "execution_count": 24,
      "outputs": [
        {
          "output_type": "execute_result",
          "data": {
            "text/plain": [
              "array([[0.3, 0.7],\n",
              "       [0.3, 0.7],\n",
              "       [0.3, 0.7],\n",
              "       [0.3, 0.7],\n",
              "       [0.3, 0.7]])"
            ]
          },
          "metadata": {
            "tags": []
          },
          "execution_count": 24
        }
      ]
    },
    {
      "cell_type": "markdown",
      "metadata": {
        "id": "YSImh8RnpVIk",
        "colab_type": "text"
      },
      "source": [
        "As before, calculate the two terms that make up the loss function.  Notice that you are working with more than one class (represented by columns).  In this case, there are two classes.\n",
        "\n",
        "Start by calculating the loss for class `0`.\n",
        "\n",
        "$$ loss^{(i)} = loss_{pos}^{(i)} + los_{neg}^{(i)} $$\n",
        "\n",
        "$$loss_{pos}^{(i)} = -1 \\times weight_{pos}^{(i)} \\times y^{(i)} \\times log(\\hat{y}^{(i)})$$\n",
        "\n",
        "$$loss_{neg}^{(i)} = -1 \\times weight_{neg}^{(i)} \\times (1- y^{(i)}) \\times log(1 - \\hat{y}^{(i)})$$"
      ]
    },
    {
      "cell_type": "markdown",
      "metadata": {
        "id": "zI7aJTDzpVIm",
        "colab_type": "text"
      },
      "source": [
        "View the zero column for the weights, true values, and predictions that you will use to calculate the loss from the positive predictions."
      ]
    },
    {
      "cell_type": "code",
      "metadata": {
        "id": "2YrSkus0pVIp",
        "colab_type": "code",
        "colab": {
          "base_uri": "https://localhost:8080/",
          "height": 69
        },
        "outputId": "b1ff8364-9d0c-4391-a25c-bbc9dcee64e2"
      },
      "source": [
        "# Print and view column zero of the weight\n",
        "print(f\"w_p[0]: {w_p[0]}\")\n",
        "print(f\"y_true[:,0]: {y_true[:,0]}\")\n",
        "print(f\"y_pred[:,0]: {y_pred[:,0]}\")"
      ],
      "execution_count": 25,
      "outputs": [
        {
          "output_type": "stream",
          "text": [
            "w_p[0]: 0.2\n",
            "y_true[:,0]: [1 1 1 1 0]\n",
            "y_pred[:,0]: [0.3 0.3 0.3 0.3 0.3]\n"
          ],
          "name": "stdout"
        }
      ]
    },
    {
      "cell_type": "code",
      "metadata": {
        "id": "8RfiK1MZpVI0",
        "colab_type": "code",
        "colab": {
          "base_uri": "https://localhost:8080/",
          "height": 34
        },
        "outputId": "71cb7936-8db5-45eb-8476-a12b19749630"
      },
      "source": [
        "# calculate the loss from the positive predictions, for class 0\n",
        "loss_0_pos = -1 * np.sum(w_p[0] * \n",
        "                y_true[:, 0] * \n",
        "                np.log(y_pred[:, 0])\n",
        "              )\n",
        "print(f\"loss_0_pos: {loss_0_pos:.4f}\")"
      ],
      "execution_count": 26,
      "outputs": [
        {
          "output_type": "stream",
          "text": [
            "loss_0_pos: 0.9632\n"
          ],
          "name": "stdout"
        }
      ]
    },
    {
      "cell_type": "markdown",
      "metadata": {
        "id": "udehBxBFpVI9",
        "colab_type": "text"
      },
      "source": [
        "View the zero column for the weights, true values, and predictions that you will use to calculate the loss from the negative predictions."
      ]
    },
    {
      "cell_type": "code",
      "metadata": {
        "id": "lI3bcIoPpVJA",
        "colab_type": "code",
        "colab": {
          "base_uri": "https://localhost:8080/",
          "height": 69
        },
        "outputId": "ca869fba-ab4b-4d97-da43-8286f20fa6af"
      },
      "source": [
        "# Print and view column zero of the weight\n",
        "print(f\"w_n[0]: {w_n[0]}\")\n",
        "print(f\"y_true[:,0]: {y_true[:,0]}\")\n",
        "print(f\"y_pred[:,0]: {y_pred[:,0]}\")"
      ],
      "execution_count": 27,
      "outputs": [
        {
          "output_type": "stream",
          "text": [
            "w_n[0]: 0.8\n",
            "y_true[:,0]: [1 1 1 1 0]\n",
            "y_pred[:,0]: [0.3 0.3 0.3 0.3 0.3]\n"
          ],
          "name": "stdout"
        }
      ]
    },
    {
      "cell_type": "code",
      "metadata": {
        "id": "c4LE40zOpVJM",
        "colab_type": "code",
        "colab": {
          "base_uri": "https://localhost:8080/",
          "height": 34
        },
        "outputId": "19b1e935-1fca-4b7a-f37d-2cd37535b244"
      },
      "source": [
        "# Calculate the loss from the negative predictions, for class 0\n",
        "loss_0_neg = -1 * np.sum( \n",
        "                w_n[0] * \n",
        "                (1 - y_true[:, 0]) * \n",
        "                np.log(1 - y_pred[:, 0])\n",
        "              )\n",
        "print(f\"loss_0_neg: {loss_0_neg:.4f}\")"
      ],
      "execution_count": 28,
      "outputs": [
        {
          "output_type": "stream",
          "text": [
            "loss_0_neg: 0.2853\n"
          ],
          "name": "stdout"
        }
      ]
    },
    {
      "cell_type": "code",
      "metadata": {
        "id": "o48v3wlqpVJX",
        "colab_type": "code",
        "colab": {
          "base_uri": "https://localhost:8080/",
          "height": 34
        },
        "outputId": "5d58c3d3-bc48-46a6-8f8a-33b47a6e9657"
      },
      "source": [
        "# add the two loss terms to get the total loss for class 0\n",
        "loss_0 = loss_0_neg + loss_0_pos\n",
        "print(f\"loss_0: {loss_0:.4f}\")"
      ],
      "execution_count": 29,
      "outputs": [
        {
          "output_type": "stream",
          "text": [
            "loss_0: 1.2485\n"
          ],
          "name": "stdout"
        }
      ]
    },
    {
      "cell_type": "markdown",
      "metadata": {
        "id": "DW3q9E5HpVJd",
        "colab_type": "text"
      },
      "source": [
        "Now you are familiar with the array slicing that you would use when there are multiple disease classes stored in a two-dimensional array.\n",
        "\n",
        "#### Now it's your turn!\n",
        "* Can you calculate the loss for class (column) `1`?  "
      ]
    },
    {
      "cell_type": "code",
      "metadata": {
        "id": "_d1J8usXpVJe",
        "colab_type": "code",
        "colab": {
          "base_uri": "https://localhost:8080/",
          "height": 34
        },
        "outputId": "2e52c4f9-3d07-44e0-93c1-5b16194c88fb"
      },
      "source": [
        "# calculate the loss from the positive predictions, for class 1\n",
        "loss_1_pos = -1 * np.sum( w_p[1] * \n",
        "                         y_true[:,1] *\n",
        "                         np.log(y_pred[:,1]))\n",
        "print(f\"loss_1_pos: {loss_1_pos:.4f}\")"
      ],
      "execution_count": 30,
      "outputs": [
        {
          "output_type": "stream",
          "text": [
            "loss_1_pos: 0.2853\n"
          ],
          "name": "stdout"
        }
      ]
    },
    {
      "cell_type": "markdown",
      "metadata": {
        "id": "cqZEyZ8npVJr",
        "colab_type": "text"
      },
      "source": [
        "Expected output\n",
        "```CPP\n",
        "loss_1_pos: 0.2853\n",
        "```"
      ]
    },
    {
      "cell_type": "code",
      "metadata": {
        "id": "DNP8AmoppVJs",
        "colab_type": "code",
        "colab": {
          "base_uri": "https://localhost:8080/",
          "height": 34
        },
        "outputId": "43678743-be06-4416-d894-03086757c66f"
      },
      "source": [
        "# Calculate the loss from the negative predictions, for class 1\n",
        "loss_1_neg = -1 * np.sum(w_n[1] * \n",
        "                         (1 - y_true[:,1]) * \n",
        "                         np.log(1 - y_pred[:,1]))\n",
        "print(f\"loss_1_neg: {loss_1_neg:.4f}\")"
      ],
      "execution_count": 31,
      "outputs": [
        {
          "output_type": "stream",
          "text": [
            "loss_1_neg: 0.9632\n"
          ],
          "name": "stdout"
        }
      ]
    },
    {
      "cell_type": "markdown",
      "metadata": {
        "id": "Cy5W29N7pVJ0",
        "colab_type": "text"
      },
      "source": [
        "#### Expected output\n",
        "```CPP\n",
        "loss_1_neg: 0.9632\n",
        "```"
      ]
    },
    {
      "cell_type": "code",
      "metadata": {
        "id": "lb5x36HjpVJ1",
        "colab_type": "code",
        "colab": {
          "base_uri": "https://localhost:8080/",
          "height": 34
        },
        "outputId": "c883220a-3be2-473b-b528-62a3165bd9c0"
      },
      "source": [
        "# add the two loss terms to get the total loss for class 0\n",
        "loss_1 = loss_1_pos + loss_1_neg\n",
        "print(f\"loss_1: {loss_1:.4f}\")"
      ],
      "execution_count": 32,
      "outputs": [
        {
          "output_type": "stream",
          "text": [
            "loss_1: 1.2485\n"
          ],
          "name": "stdout"
        }
      ]
    },
    {
      "cell_type": "markdown",
      "metadata": {
        "id": "UZ_5BxGBpVJ8",
        "colab_type": "text"
      },
      "source": [
        "#### Expected output\n",
        "```CPP\n",
        "loss_1: 1.2485\n",
        "```"
      ]
    },
    {
      "cell_type": "markdown",
      "metadata": {
        "id": "KAOe0djo4seR",
        "colab_type": "text"
      },
      "source": [
        "#### General Implementation"
      ]
    },
    {
      "cell_type": "code",
      "metadata": {
        "id": "ju143aT-4xdQ",
        "colab_type": "code",
        "colab": {
          "base_uri": "https://localhost:8080/",
          "height": 34
        },
        "outputId": "1de5c59a-b63d-4950-ee27-e62f3c179542"
      },
      "source": [
        "loss = -1 * np.sum( w_p * y_true * np.log(y_pred) +\n",
        "             w_n * (1 - y_true) * np.log(1 - y_pred), axis=0)\n",
        "\n",
        "print(f\"loss: {loss}\")"
      ],
      "execution_count": 33,
      "outputs": [
        {
          "output_type": "stream",
          "text": [
            "loss: [1.2485182 1.2485182]\n"
          ],
          "name": "stdout"
        }
      ]
    },
    {
      "cell_type": "markdown",
      "metadata": {
        "id": "pY0Y-iBGpVJ9",
        "colab_type": "text"
      },
      "source": [
        "### Note\n",
        "The data for the two classes (two columns) as well as the predictions were chosen so that you end up getting the same weighted loss for both categories.  \n",
        " - In general, you will expect to calculate different weighted loss values for each disease category, as the model predictions and data will differ from one category to another."
      ]
    },
    {
      "cell_type": "markdown",
      "metadata": {
        "id": "vHLa8v4_pVJ_",
        "colab_type": "text"
      },
      "source": [
        "If you want some help, please click on the green \"Solution\" cell below to reveal the solution."
      ]
    },
    {
      "cell_type": "markdown",
      "metadata": {
        "id": "94y6hPQKpVKA",
        "colab_type": "text"
      },
      "source": [
        "<details>    \n",
        "<summary>\n",
        "    <font size=\"3\" color=\"darkgreen\"><b>Solution</b></font>\n",
        "</summary>\n",
        "<p>\n",
        "<code>\n",
        "-- # calculate the loss from the positive predictions, for class 1\n",
        "loss_1_pos = -1 * np.sum(w_p[1] * \n",
        "                y_true[:, 1] * \n",
        "                np.log(y_pred[:, 1])\n",
        "              )\n",
        "print(f\"loss_1_pos: {loss_1_pos:.4f}\")\n",
        "    \n",
        "-- # Calculate the loss from the negative predictions, for class 1\n",
        "loss_1_neg = -1 * np.sum( \n",
        "                w_n[1] * \n",
        "                (1 - y_true[:, 1]) * \n",
        "                np.log(1 - y_pred[:, 1])\n",
        "              )\n",
        "print(f\"loss_1_neg: {loss_1_neg:.4f}\")\n",
        "\n",
        "-- # add the two loss terms to get the total loss for class 1\n",
        "loss_1 = loss_1_neg + loss_1_pos\n",
        "print(f\"loss_1: {loss_1:.4f}\")\n",
        "    </code>\n",
        "</p>\n"
      ]
    },
    {
      "cell_type": "markdown",
      "metadata": {
        "id": "X11uJs93pVKB",
        "colab_type": "text"
      },
      "source": [
        "### How this practice relates to and differs from the upcoming graded assignment\n",
        "- In the assignment, you will generalize this to calculating the loss for any number of classes.\n",
        "- Also in the assignment, you will learn how to avoid taking the log of zero by adding a small number (more details will be explained in the assignment).\n",
        "- Note that in the lecture videos and in this lecture notebook, you are taking the **sum** of losses for all examples.  In the assignment, you will take the **average (the mean)** for all examples.\n",
        "- Finally, in the assignment, you will work with \"tensors\" in TensorFlow, so you will use the TensorFlow equivalents of the numpy operations (keras.mean instead of numpy.mean)."
      ]
    },
    {
      "cell_type": "markdown",
      "metadata": {
        "id": "zAKfTEnnpVKC",
        "colab_type": "text"
      },
      "source": [
        "#### That's all for this lab. You now have a couple more tools you'll need for this week's assignment!"
      ]
    }
  ]
}